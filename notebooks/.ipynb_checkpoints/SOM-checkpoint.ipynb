{
 "cells": [
  {
   "cell_type": "markdown",
   "metadata": {},
   "source": [
    "# Self Organizing Maps"
   ]
  },
  {
   "cell_type": "markdown",
   "metadata": {},
   "source": [
    "## Table of Contents\n",
    "- [<h3>Setting up Notebook</h3>](#1.0)\n",
    "    - [<h4>Import Section</h4>](#1.1)\n",
    "\n",
    "- [<h3>Data Preparation</h3>](#2.0)\n",
    "    - [<h4>Problem </h4>](#2.1)\n",
    "    - [<h4>Normalizing the Data </h4>](#2.2)\n",
    "    - [<h4>Preparing Output Data </h4>](#2.3)\n",
    "    - [<h4>Splitting Test and Train Data </h4>](#2.4)\n",
    "    \n",
    "- [<h3>Class Definition </h3>](#3.0)\n",
    "    - [<h4>SOM Base Class </h4>](#3.1)\n",
    "    - [<h4>Two Dimensional SOM Class </h4>](#3.2)\n",
    "    \n",
    "- [<h3>Implementation</h3>](#4.0)\n",
    "\n",
    "- [<h3>Observation</h3>](#5.0)\n",
    "    \n"
   ]
  },
  {
   "cell_type": "markdown",
   "metadata": {},
   "source": [
    "### 1. Setting up the Notebook <a id=\"1.0\"></a>\n",
    "\n",
    "#### 1.1 Import Section <a id=\"1.1\"></a>"
   ]
  },
  {
   "cell_type": "code",
   "execution_count": 37,
   "metadata": {},
   "outputs": [],
   "source": [
    "import numpy as np\n",
    "import matplotlib.pyplot as plt\n",
    "import random\n",
    "import pandas as pd\n",
    "import glob\n",
    "import cv2\n",
    "from sklearn.preprocessing import MinMaxScaler\n",
    "# import seaborn as sb"
   ]
  },
  {
   "cell_type": "markdown",
   "metadata": {},
   "source": [
    "## 2. Data Preparation <a id ='2.0'></a>"
   ]
  },
  {
   "cell_type": "code",
   "execution_count": 38,
   "metadata": {},
   "outputs": [],
   "source": [
    "wine_input_data =pd.read_table(\"../data/raw/wine_data/Wine Input.asc\")\n",
    "wine_desired_data =pd.read_table(\"../data/raw/wine_data/Wine Desired.asc\")"
   ]
  },
  {
   "cell_type": "markdown",
   "metadata": {},
   "source": [
    "#### 2.2 Normalizing the Data <a id ='2.2'></a>"
   ]
  },
  {
   "cell_type": "code",
   "execution_count": 60,
   "metadata": {},
   "outputs": [
    {
     "data": {
      "text/html": [
       "<div>\n",
       "<style scoped>\n",
       "    .dataframe tbody tr th:only-of-type {\n",
       "        vertical-align: middle;\n",
       "    }\n",
       "\n",
       "    .dataframe tbody tr th {\n",
       "        vertical-align: top;\n",
       "    }\n",
       "\n",
       "    .dataframe thead th {\n",
       "        text-align: right;\n",
       "    }\n",
       "</style>\n",
       "<table border=\"1\" class=\"dataframe\">\n",
       "  <thead>\n",
       "    <tr style=\"text-align: right;\">\n",
       "      <th></th>\n",
       "      <th>Alcohol</th>\n",
       "      <th>Malic acid</th>\n",
       "      <th>Ash</th>\n",
       "      <th>Alcalinity of Ash</th>\n",
       "      <th>Magnesium</th>\n",
       "      <th>Total phenols</th>\n",
       "      <th>Flavanoids</th>\n",
       "      <th>Non-flavanoids phenols</th>\n",
       "      <th>Proanthocyanins</th>\n",
       "      <th>color intensity</th>\n",
       "      <th>Hue</th>\n",
       "      <th>OD280/OD315 of diluted wines</th>\n",
       "      <th>Proline</th>\n",
       "    </tr>\n",
       "  </thead>\n",
       "  <tbody>\n",
       "    <tr>\n",
       "      <th>0</th>\n",
       "      <td>0.842105</td>\n",
       "      <td>0.191700</td>\n",
       "      <td>0.572193</td>\n",
       "      <td>0.257732</td>\n",
       "      <td>0.619565</td>\n",
       "      <td>0.627586</td>\n",
       "      <td>0.573840</td>\n",
       "      <td>0.283019</td>\n",
       "      <td>0.593060</td>\n",
       "      <td>0.372014</td>\n",
       "      <td>0.455285</td>\n",
       "      <td>0.970696</td>\n",
       "      <td>0.561341</td>\n",
       "    </tr>\n",
       "    <tr>\n",
       "      <th>1</th>\n",
       "      <td>0.571053</td>\n",
       "      <td>0.205534</td>\n",
       "      <td>0.417112</td>\n",
       "      <td>0.030928</td>\n",
       "      <td>0.326087</td>\n",
       "      <td>0.575862</td>\n",
       "      <td>0.510549</td>\n",
       "      <td>0.245283</td>\n",
       "      <td>0.274448</td>\n",
       "      <td>0.264505</td>\n",
       "      <td>0.463415</td>\n",
       "      <td>0.780220</td>\n",
       "      <td>0.550642</td>\n",
       "    </tr>\n",
       "    <tr>\n",
       "      <th>2</th>\n",
       "      <td>0.560526</td>\n",
       "      <td>0.320158</td>\n",
       "      <td>0.700535</td>\n",
       "      <td>0.412371</td>\n",
       "      <td>0.336957</td>\n",
       "      <td>0.627586</td>\n",
       "      <td>0.611814</td>\n",
       "      <td>0.320755</td>\n",
       "      <td>0.757098</td>\n",
       "      <td>0.375427</td>\n",
       "      <td>0.447154</td>\n",
       "      <td>0.695971</td>\n",
       "      <td>0.646933</td>\n",
       "    </tr>\n",
       "    <tr>\n",
       "      <th>3</th>\n",
       "      <td>0.878947</td>\n",
       "      <td>0.239130</td>\n",
       "      <td>0.609626</td>\n",
       "      <td>0.319588</td>\n",
       "      <td>0.467391</td>\n",
       "      <td>0.989655</td>\n",
       "      <td>0.664557</td>\n",
       "      <td>0.207547</td>\n",
       "      <td>0.558360</td>\n",
       "      <td>0.556314</td>\n",
       "      <td>0.308943</td>\n",
       "      <td>0.798535</td>\n",
       "      <td>0.857347</td>\n",
       "    </tr>\n",
       "    <tr>\n",
       "      <th>4</th>\n",
       "      <td>0.581579</td>\n",
       "      <td>0.365613</td>\n",
       "      <td>0.807487</td>\n",
       "      <td>0.536082</td>\n",
       "      <td>0.521739</td>\n",
       "      <td>0.627586</td>\n",
       "      <td>0.495781</td>\n",
       "      <td>0.490566</td>\n",
       "      <td>0.444795</td>\n",
       "      <td>0.259386</td>\n",
       "      <td>0.455285</td>\n",
       "      <td>0.608059</td>\n",
       "      <td>0.325963</td>\n",
       "    </tr>\n",
       "    <tr>\n",
       "      <th>...</th>\n",
       "      <td>...</td>\n",
       "      <td>...</td>\n",
       "      <td>...</td>\n",
       "      <td>...</td>\n",
       "      <td>...</td>\n",
       "      <td>...</td>\n",
       "      <td>...</td>\n",
       "      <td>...</td>\n",
       "      <td>...</td>\n",
       "      <td>...</td>\n",
       "      <td>...</td>\n",
       "      <td>...</td>\n",
       "      <td>...</td>\n",
       "    </tr>\n",
       "    <tr>\n",
       "      <th>173</th>\n",
       "      <td>0.705263</td>\n",
       "      <td>0.970356</td>\n",
       "      <td>0.582888</td>\n",
       "      <td>0.510309</td>\n",
       "      <td>0.271739</td>\n",
       "      <td>0.241379</td>\n",
       "      <td>0.056962</td>\n",
       "      <td>0.735849</td>\n",
       "      <td>0.205047</td>\n",
       "      <td>0.547782</td>\n",
       "      <td>0.130081</td>\n",
       "      <td>0.172161</td>\n",
       "      <td>0.329529</td>\n",
       "    </tr>\n",
       "    <tr>\n",
       "      <th>174</th>\n",
       "      <td>0.623684</td>\n",
       "      <td>0.626482</td>\n",
       "      <td>0.598930</td>\n",
       "      <td>0.639175</td>\n",
       "      <td>0.347826</td>\n",
       "      <td>0.282759</td>\n",
       "      <td>0.086498</td>\n",
       "      <td>0.566038</td>\n",
       "      <td>0.315457</td>\n",
       "      <td>0.513652</td>\n",
       "      <td>0.178862</td>\n",
       "      <td>0.106227</td>\n",
       "      <td>0.336662</td>\n",
       "    </tr>\n",
       "    <tr>\n",
       "      <th>175</th>\n",
       "      <td>0.589474</td>\n",
       "      <td>0.699605</td>\n",
       "      <td>0.481283</td>\n",
       "      <td>0.484536</td>\n",
       "      <td>0.543478</td>\n",
       "      <td>0.210345</td>\n",
       "      <td>0.073840</td>\n",
       "      <td>0.566038</td>\n",
       "      <td>0.296530</td>\n",
       "      <td>0.761092</td>\n",
       "      <td>0.089431</td>\n",
       "      <td>0.106227</td>\n",
       "      <td>0.397290</td>\n",
       "    </tr>\n",
       "    <tr>\n",
       "      <th>176</th>\n",
       "      <td>0.563158</td>\n",
       "      <td>0.365613</td>\n",
       "      <td>0.540107</td>\n",
       "      <td>0.484536</td>\n",
       "      <td>0.543478</td>\n",
       "      <td>0.231034</td>\n",
       "      <td>0.071730</td>\n",
       "      <td>0.754717</td>\n",
       "      <td>0.331230</td>\n",
       "      <td>0.684300</td>\n",
       "      <td>0.097561</td>\n",
       "      <td>0.128205</td>\n",
       "      <td>0.400856</td>\n",
       "    </tr>\n",
       "    <tr>\n",
       "      <th>177</th>\n",
       "      <td>0.815789</td>\n",
       "      <td>0.664032</td>\n",
       "      <td>0.737968</td>\n",
       "      <td>0.716495</td>\n",
       "      <td>0.282609</td>\n",
       "      <td>0.368966</td>\n",
       "      <td>0.088608</td>\n",
       "      <td>0.811321</td>\n",
       "      <td>0.296530</td>\n",
       "      <td>0.675768</td>\n",
       "      <td>0.105691</td>\n",
       "      <td>0.120879</td>\n",
       "      <td>0.201141</td>\n",
       "    </tr>\n",
       "  </tbody>\n",
       "</table>\n",
       "<p>178 rows × 13 columns</p>\n",
       "</div>"
      ],
      "text/plain": [
       "      Alcohol  Malic acid       Ash  Alcalinity of Ash  Magnesium  \\\n",
       "0    0.842105    0.191700  0.572193           0.257732   0.619565   \n",
       "1    0.571053    0.205534  0.417112           0.030928   0.326087   \n",
       "2    0.560526    0.320158  0.700535           0.412371   0.336957   \n",
       "3    0.878947    0.239130  0.609626           0.319588   0.467391   \n",
       "4    0.581579    0.365613  0.807487           0.536082   0.521739   \n",
       "..        ...         ...       ...                ...        ...   \n",
       "173  0.705263    0.970356  0.582888           0.510309   0.271739   \n",
       "174  0.623684    0.626482  0.598930           0.639175   0.347826   \n",
       "175  0.589474    0.699605  0.481283           0.484536   0.543478   \n",
       "176  0.563158    0.365613  0.540107           0.484536   0.543478   \n",
       "177  0.815789    0.664032  0.737968           0.716495   0.282609   \n",
       "\n",
       "     Total phenols  Flavanoids  Non-flavanoids phenols  Proanthocyanins  \\\n",
       "0         0.627586    0.573840                0.283019         0.593060   \n",
       "1         0.575862    0.510549                0.245283         0.274448   \n",
       "2         0.627586    0.611814                0.320755         0.757098   \n",
       "3         0.989655    0.664557                0.207547         0.558360   \n",
       "4         0.627586    0.495781                0.490566         0.444795   \n",
       "..             ...         ...                     ...              ...   \n",
       "173       0.241379    0.056962                0.735849         0.205047   \n",
       "174       0.282759    0.086498                0.566038         0.315457   \n",
       "175       0.210345    0.073840                0.566038         0.296530   \n",
       "176       0.231034    0.071730                0.754717         0.331230   \n",
       "177       0.368966    0.088608                0.811321         0.296530   \n",
       "\n",
       "     color intensity       Hue  OD280/OD315 of diluted wines   Proline  \n",
       "0           0.372014  0.455285                      0.970696  0.561341  \n",
       "1           0.264505  0.463415                      0.780220  0.550642  \n",
       "2           0.375427  0.447154                      0.695971  0.646933  \n",
       "3           0.556314  0.308943                      0.798535  0.857347  \n",
       "4           0.259386  0.455285                      0.608059  0.325963  \n",
       "..               ...       ...                           ...       ...  \n",
       "173         0.547782  0.130081                      0.172161  0.329529  \n",
       "174         0.513652  0.178862                      0.106227  0.336662  \n",
       "175         0.761092  0.089431                      0.106227  0.397290  \n",
       "176         0.684300  0.097561                      0.128205  0.400856  \n",
       "177         0.675768  0.105691                      0.120879  0.201141  \n",
       "\n",
       "[178 rows x 13 columns]"
      ]
     },
     "execution_count": 60,
     "metadata": {},
     "output_type": "execute_result"
    }
   ],
   "source": [
    "# --> Normalizing the data <-- #\n",
    "feature_scaler = MinMaxScaler(feature_range=(0, 1))\n",
    "wine_input_data = feature_scaler.fit_transform(wine_input_data)\n",
    "wine_input_data = pd.DataFrame(data=wine_input_data)\n",
    "wine_input_data.columns = ['Alcohol', 'Malic acid', 'Ash','Alcalinity of Ash', 'Magnesium', 'Total phenols', 'Flavanoids', \n",
    "                           'Non-flavanoids phenols', 'Proanthocyanins', 'color intensity', 'Hue', 'OD280/OD315 of diluted wines', 'Proline']\n",
    "wine_input_data"
   ]
  },
  {
   "cell_type": "code",
   "execution_count": 40,
   "metadata": {},
   "outputs": [
    {
     "data": {
      "text/html": [
       "<div>\n",
       "<style scoped>\n",
       "    .dataframe tbody tr th:only-of-type {\n",
       "        vertical-align: middle;\n",
       "    }\n",
       "\n",
       "    .dataframe tbody tr th {\n",
       "        vertical-align: top;\n",
       "    }\n",
       "\n",
       "    .dataframe thead th {\n",
       "        text-align: right;\n",
       "    }\n",
       "</style>\n",
       "<table border=\"1\" class=\"dataframe\">\n",
       "  <thead>\n",
       "    <tr style=\"text-align: right;\">\n",
       "      <th></th>\n",
       "      <th>0</th>\n",
       "      <th>1</th>\n",
       "      <th>2</th>\n",
       "    </tr>\n",
       "  </thead>\n",
       "  <tbody>\n",
       "    <tr>\n",
       "      <th>0</th>\n",
       "      <td>0.0</td>\n",
       "      <td>0.0</td>\n",
       "      <td>1.0</td>\n",
       "    </tr>\n",
       "    <tr>\n",
       "      <th>1</th>\n",
       "      <td>0.0</td>\n",
       "      <td>0.0</td>\n",
       "      <td>1.0</td>\n",
       "    </tr>\n",
       "    <tr>\n",
       "      <th>2</th>\n",
       "      <td>0.0</td>\n",
       "      <td>0.0</td>\n",
       "      <td>1.0</td>\n",
       "    </tr>\n",
       "    <tr>\n",
       "      <th>3</th>\n",
       "      <td>0.0</td>\n",
       "      <td>0.0</td>\n",
       "      <td>1.0</td>\n",
       "    </tr>\n",
       "    <tr>\n",
       "      <th>4</th>\n",
       "      <td>0.0</td>\n",
       "      <td>0.0</td>\n",
       "      <td>1.0</td>\n",
       "    </tr>\n",
       "    <tr>\n",
       "      <th>...</th>\n",
       "      <td>...</td>\n",
       "      <td>...</td>\n",
       "      <td>...</td>\n",
       "    </tr>\n",
       "    <tr>\n",
       "      <th>173</th>\n",
       "      <td>1.0</td>\n",
       "      <td>0.0</td>\n",
       "      <td>0.0</td>\n",
       "    </tr>\n",
       "    <tr>\n",
       "      <th>174</th>\n",
       "      <td>1.0</td>\n",
       "      <td>0.0</td>\n",
       "      <td>0.0</td>\n",
       "    </tr>\n",
       "    <tr>\n",
       "      <th>175</th>\n",
       "      <td>1.0</td>\n",
       "      <td>0.0</td>\n",
       "      <td>0.0</td>\n",
       "    </tr>\n",
       "    <tr>\n",
       "      <th>176</th>\n",
       "      <td>1.0</td>\n",
       "      <td>0.0</td>\n",
       "      <td>0.0</td>\n",
       "    </tr>\n",
       "    <tr>\n",
       "      <th>177</th>\n",
       "      <td>1.0</td>\n",
       "      <td>0.0</td>\n",
       "      <td>0.0</td>\n",
       "    </tr>\n",
       "  </tbody>\n",
       "</table>\n",
       "<p>178 rows × 3 columns</p>\n",
       "</div>"
      ],
      "text/plain": [
       "       0    1    2\n",
       "0    0.0  0.0  1.0\n",
       "1    0.0  0.0  1.0\n",
       "2    0.0  0.0  1.0\n",
       "3    0.0  0.0  1.0\n",
       "4    0.0  0.0  1.0\n",
       "..   ...  ...  ...\n",
       "173  1.0  0.0  0.0\n",
       "174  1.0  0.0  0.0\n",
       "175  1.0  0.0  0.0\n",
       "176  1.0  0.0  0.0\n",
       "177  1.0  0.0  0.0\n",
       "\n",
       "[178 rows x 3 columns]"
      ]
     },
     "execution_count": 40,
     "metadata": {},
     "output_type": "execute_result"
    }
   ],
   "source": [
    "wine_desired_data = feature_scaler.fit_transform(wine_desired_data)\n",
    "wine_desired_data = pd.DataFrame(data=wine_desired_data)\n",
    "wine_desired_data"
   ]
  },
  {
   "cell_type": "markdown",
   "metadata": {},
   "source": [
    "#### 2.3 Preparing Ouput Data <a id ='2.3'></a>"
   ]
  },
  {
   "cell_type": "code",
   "execution_count": 41,
   "metadata": {},
   "outputs": [],
   "source": [
    "data = wine_input_data.to_numpy()\n",
    "datay = wine_desired_data.to_numpy()\n",
    "y = np.array([[1,2,3]])\n",
    "out = datay @y.T"
   ]
  },
  {
   "cell_type": "markdown",
   "metadata": {},
   "source": [
    "#### 2.4 Spliting the training and test data <a id ='2.4'></a>"
   ]
  },
  {
   "cell_type": "code",
   "execution_count": 42,
   "metadata": {},
   "outputs": [],
   "source": [
    "split_ratio = 0.9"
   ]
  },
  {
   "cell_type": "code",
   "execution_count": 43,
   "metadata": {},
   "outputs": [],
   "source": [
    "idx = np.arange(data2.shape[0])\n",
    "np.random.shuffle(idx)\n",
    "n = int(split_ratio*len(data))"
   ]
  },
  {
   "cell_type": "code",
   "execution_count": 44,
   "metadata": {},
   "outputs": [],
   "source": [
    "train_x, train_y = data[idx[0:n]], datay[idx[0:n]] \n",
    "test_x, test_y = data[idx[n:]], datay[idx[n:]]\n",
    "train_out, test_out = out[idx[0:n]], out[idx[n:]]"
   ]
  },
  {
   "cell_type": "markdown",
   "metadata": {},
   "source": [
    "## 3. Class Definition <a id ='3.0'></a>\n",
    "\n",
    "### 3.1 SOM Base Class <a id ='3.1'></a>"
   ]
  },
  {
   "cell_type": "code",
   "execution_count": 45,
   "metadata": {},
   "outputs": [],
   "source": [
    "class SOM: \n",
    "    \"\"\"\n",
    "    SOM is a parent class for Self Organizing Maps algorithm implementation with some basic functionalities \n",
    "\n",
    "    Functions:\n",
    "        -> find_euclidean_distance()    : A function to calculate the euclidean distance between two points\n",
    "        -> find_BMU()                   : A function to compute the Best matching Unit(BMU)\n",
    "        -> update_weights()             : A function to perform weights updation \n",
    "        -> compute_learning_rate()      : A function to compute a decaying learning rate after every epoch\n",
    "        -> compute_neighbourhood_size() : A function to compute a decaying neighbourhood radius after every epoch\n",
    "    \"\"\"\n",
    "    \n",
    "    def __init__(self):\n",
    "        print(\"Created an SOM class object...!\")\n",
    " \n",
    "    def find_euclidean_distance(self, X: np.array, Y: np.array)-> np.array:\n",
    "        return np.sqrt(np.sum((X - Y)**2, axis = 1, keepdims = True))\n",
    "    \n",
    "    def find_BMU(self, dist: np.array)-> np.array:   \n",
    "        return np.argmin(dist)\n",
    "    \n",
    "    def update_weights(self, data_point: np.array)-> None:\n",
    "        self.weights += self.lr*self.neighbhourhood_prob*(data_point - self.weights)   \n",
    "    \n",
    "    \n",
    "    # -----> Compute the parameters <----- #\n",
    "    \n",
    "    def compute_learning_rate(self, current_epoch: int):\n",
    "        return self.lr_const*np.exp(-current_epoch/self.epochs_const)\n",
    "    \n",
    "    def compute_neighbourhood_size(self, epoch: int):        \n",
    "        return self.neighbours_radius_const*np.exp(-epoch/self.time_const)\n",
    "    \n",
    "    # -----> Utility Function <----- #\n",
    "    def frames_to_video(self, directory: str, name: str):\n",
    "        size = None        \n",
    "        img_array = []\n",
    "        for filename in glob.glob(directory + '/*.png'):\n",
    "            img = cv2.imread(filename)\n",
    "            height, width, layers = img.shape\n",
    "            self.size = (width,height)\n",
    "            img_array.append(img)\n",
    "\n",
    "        out = cv2.VideoWriter(name+'.avi',cv2.VideoWriter_fourcc(*'DIVX'), 30, self.size)\n",
    "        print(len(img_array))\n",
    "        for i in range(len(img_array)):\n",
    "            out.write(img_array[i])\n",
    "        out.release()\n"
   ]
  },
  {
   "cell_type": "markdown",
   "metadata": {},
   "source": [
    "### 3.2 Two Dimensional SOM Class <a id ='3.2'></a>"
   ]
  },
  {
   "cell_type": "code",
   "execution_count": 46,
   "metadata": {},
   "outputs": [],
   "source": [
    "class SOM_2D(SOM):\n",
    "    \"\"\"\n",
    "    SOM_2D is a Child class inheriting SOM parent class for performing 2D Self Organizing Maps algorithm implementation \n",
    "\n",
    "    Functions:\n",
    "        -> initializer()                : A function to initialise all the required parameters to perform 2D SOM fitting\n",
    "        -> compute_neighbourhood_prob() : A function to compute the gaussian probabilty for neighbourhood in 2D\n",
    "        -> fit()                        : A function to perform 1D SOM fitting to the given data  \n",
    "        -> save_data()                  : A function to set the object's save data flags\n",
    "    \"\"\"\n",
    "    def __init__(self):\n",
    "        pass\n",
    "\n",
    "    def initializer(self, data: np.array, output: np.array, epoch: int = 200, neighbours: int = 10, lr: float = 0.5, neurons: int = 12)-> None:\n",
    "        self.N = neurons\n",
    "        self.data_dim = data.shape\n",
    "        self.data = data\n",
    "        self.data_set = data.copy()\n",
    "        self.output = output\n",
    "        self.lattice = np.arange(self.N)\n",
    "        self.weights = np.random.uniform(size=(self.N, self.N, data.shape[1]))\n",
    "        self.shapes = self.weights.shape\n",
    "\n",
    "        # -----> Hyperparameter Constants <----- #\n",
    "        self.lr_const = lr\n",
    "        self.epochs_const = epoch\n",
    "        self.neighbours_radius_const = neighbours\n",
    "        self.time_const = self.epochs_const/np.log(self.neighbours_radius_const)\n",
    "        print(\"Time constant: \", self.time_const)   \n",
    "        \n",
    "    def find_euclidean_distance(self, X: np.array, Y: np.array)-> np.array:\n",
    "        return np.linalg.norm(X-Y, axis = 2 )\n",
    "    \n",
    "    def find_BMU(self, dist: np.array)-> np.array:\n",
    "        return np.unravel_index(np.argmin(dist), dist.shape)\n",
    "                     \n",
    "    def compute_neighbourhood_prob(self, index: np.array, epoch: int):\n",
    "        sigma = self.compute_neighbourhood_size(epoch)        \n",
    "        lateral_dist_x, lateral_dist_y = np.meshgrid(abs(self.lattice - index[0]), abs(self.lattice - index[1]))\n",
    "        neighborhood_matrix = np.round(np.sqrt(lateral_dist_x**2 + lateral_dist_y**2), 2)\n",
    "        return np.round(np.exp(-neighborhood_matrix**2 /(2*sigma**2)), 2)[:,:, np.newaxis]\n",
    "    \n",
    "    def compute_accuracy(self, data: np.array, out: np.array, som_map: np.array = None):\n",
    "        if som_map is not None: self.result_map = som_map\n",
    "        self.result = np.zeros((len(data), 3))\n",
    "        for i, x in enumerate(data):\n",
    "            dist_grid = np.linalg.norm(x - self.MAP, axis=2)\n",
    "            BMU = np.unravel_index(np.argmin(dist_grid, axis=None), dist_grid.shape)    \n",
    "            index = np.argmax(self.result_map[BMU])\n",
    "            self.result[i, index] =  1\n",
    "        y = np.array([[1],[2],[3]])\n",
    "        print( \"Accuracy: \", np.round(np.sum(self.result@y == out)*100/ len(out), 2),str(\"%\") )\n",
    "    \n",
    "    def visualize(self):\n",
    "        BMU = np.zeros([2],dtype=np.int32)\n",
    "        self.result_map = np.zeros([self.N, self.N, 3],dtype=np.float32)\n",
    "        self.MAP = self.weights.copy()\n",
    "        for i, data_point in enumerate(self.data_set):\n",
    "            data = np.tile(data_point, (self.N, self.N, 1) )\n",
    "            dist_grid = np.linalg.norm(data - self.MAP, axis=2)    \n",
    "            BMU = np.unravel_index(np.argmin(dist_grid, axis=None), dist_grid.shape)    \n",
    "            if self.output[i] == 1:self.result_map[BMU] += np.asarray([0.5,0,0])\n",
    "            elif self.output[i] == 2:self.result_map[BMU] += np.asarray([0,0.5,0])\n",
    "            elif self.output[i] == 3:self.result_map[BMU] += np.asarray([0,0,0.5])   \n",
    "                \n",
    "    def fit(self)-> None: \n",
    "        x = True\n",
    "        for epoch in range(1, self.epochs_const+1):\n",
    "            np.random.shuffle(self.data)\n",
    "            for data_point in self.data:\n",
    "                data = np.tile(data_point, (self.N, self.N, 1))\n",
    "                self.dist = self.find_euclidean_distance(data, self.weights)\n",
    "                self.BMU = self.find_BMU(self.dist)\n",
    "                self.neighbhourhood_prob = self.compute_neighbourhood_prob(self.BMU, epoch)    \n",
    "                self.lr = self.compute_learning_rate(epoch)\n",
    "                self.update_weights(data_point)  \n",
    "    \n"
   ]
  },
  {
   "cell_type": "markdown",
   "metadata": {},
   "source": [
    "### 4 Implementation <a id ='4.0'></a>"
   ]
  },
  {
   "cell_type": "code",
   "execution_count": 47,
   "metadata": {},
   "outputs": [],
   "source": [
    "# -----> Step 01: Create the SOM_2D object <----- #\n",
    "problem = SOM_2D()"
   ]
  },
  {
   "cell_type": "code",
   "execution_count": 53,
   "metadata": {},
   "outputs": [
    {
     "name": "stdout",
     "output_type": "stream",
     "text": [
      "Time constant:  868.5889638065036\n"
     ]
    }
   ],
   "source": [
    "# -----> Step 02: Initialise the object with data and parameters <----- #\n",
    "problem.initializer(train_x.copy(), train_out.copy(), epoch = 2000, neighbours = 10, lr = 0.005, neurons = 10)"
   ]
  },
  {
   "cell_type": "code",
   "execution_count": 54,
   "metadata": {},
   "outputs": [],
   "source": [
    "# -----> Step 03: Fitting the SOM_2D for the Wine data <----- #\n",
    "problem.fit()"
   ]
  },
  {
   "cell_type": "code",
   "execution_count": 55,
   "metadata": {},
   "outputs": [],
   "source": [
    "problem.visualize()   "
   ]
  },
  {
   "cell_type": "code",
   "execution_count": 56,
   "metadata": {},
   "outputs": [
    {
     "name": "stderr",
     "output_type": "stream",
     "text": [
      "Clipping input data to the valid range for imshow with RGB data ([0..1] for floats or [0..255] for integers).\n"
     ]
    },
    {
     "name": "stdout",
     "output_type": "stream",
     "text": [
      "Red = Class 1\n",
      "Blue = Class 2\n",
      "Green = Class 3\n"
     ]
    },
    {
     "data": {
      "text/plain": [
       "<matplotlib.image.AxesImage at 0x1ed765b3700>"
      ]
     },
     "execution_count": 56,
     "metadata": {},
     "output_type": "execute_result"
    },
    {
     "data": {
      "image/png": "[encoded data removed]",
      "text/plain": [
       "<Figure size 720x720 with 1 Axes>"
      ]
     },
     "metadata": {
      "needs_background": "light"
     },
     "output_type": "display_data"
    }
   ],
   "source": [
    "print(\"Red = Class 1\")\n",
    "print(\"Blue = Class 2\")\n",
    "print(\"Green = Class 3\")\n",
    "plt.figure(figsize=(10,10))\n",
    "plt.imshow(problem.result_map, interpolation='nearest')"
   ]
  },
  {
   "cell_type": "markdown",
   "metadata": {},
   "source": [
    "<div style=\"text-align: justify\"> As we can see each class has been given a color in the SOM map and we can see that SOM has mapped the given 13D data very well and segregated them. Also, the black color nodes are the neurons taht has no contribution and to the map as it lies in the border of the classification topology. Red color represents class 1, Blue color represents class 2, Green color represents class 3. There is overlap that happens when a data is too close to two classes or an outlier of that class which is shown in the map as diffrent color or combination of two or all three colors. On an average it yeilds a good result on the testing data with an accuracy of 80-94%.</div>"
   ]
  },
  {
   "cell_type": "code",
   "execution_count": 57,
   "metadata": {},
   "outputs": [
    {
     "name": "stdout",
     "output_type": "stream",
     "text": [
      "Accuracy:  94.44 %\n"
     ]
    }
   ],
   "source": [
    "problem.compute_accuracy(test_x, test_out)"
   ]
  },
  {
   "cell_type": "markdown",
   "metadata": {},
   "source": [
    "<div style=\"text-align: justify\">  As we can see with that the output of the algorithm with decaying $\\eta(t) $ and $\\sigma(t)$ for which the SOM have mapped  the input very well comapred to the constant $\\eta(t) $ and $\\sigma(t)$. Also for the algorithm to work effectivly, we need to update the neighbours of the BMU initially and as it approches the desired output we want them to gradually decrease and end up updating only the BMU and ignore its neighbour, so we used an exponentially decaying $\\eta(t) $ and $\\sigma(t)$ and as we can see it yeilded a better output and help the algorithm to converge. your-text-here </div>"
   ]
  },
  {
   "cell_type": "markdown",
   "metadata": {},
   "source": [
    "## 5 Observation <a id ='5.0'></a>"
   ]
  },
  {
   "cell_type": "markdown",
   "metadata": {},
   "source": [
    "<div style=\"text-align: justify\"> From this assignment I learnt that SOM is good at mapping the topology of the higher dimensional data into 2Dimensional SOM Map. It helps us visualise the higher dimensional data in a 2D SOM map format, which is clearly seen from the problem 2, without SOM it would be very difficult to visualise such higher dimensional data. Also in the SOM algorithm, Starting of with larger $\\eta(t) $ and $\\sigma(t)$ and gradually narrowing down leads to better results. </div>"
   ]
  },
  {
   "cell_type": "code",
   "execution_count": null,
   "metadata": {},
   "outputs": [],
   "source": []
  }
 ],
 "metadata": {
  "kernelspec": {
   "display_name": "Python 3",
   "language": "python",
   "name": "python3"
  },
  "language_info": {
   "codemirror_mode": {
    "name": "ipython",
    "version": 3
   },
   "file_extension": ".py",
   "mimetype": "text/x-python",
   "name": "python",
   "nbconvert_exporter": "python",
   "pygments_lexer": "ipython3",
   "version": "3.8.3"
  }
 },
 "nbformat": 4,
 "nbformat_minor": 4
}
